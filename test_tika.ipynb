{
 "cells": [
  {
   "cell_type": "code",
   "execution_count": 2,
   "metadata": {},
   "outputs": [
    {
     "name": "stdout",
     "output_type": "stream",
     "text": [
      "{'cp:revision': '2', 'extended-properties:AppVersion': '16.0000', 'meta:paragraph-count': '1', 'meta:word-count': '35', 'X-TIKA:Parsed-By-Full-Set': ['org.apache.tika.parser.DefaultParser', 'org.apache.tika.parser.microsoft.ooxml.OOXMLParser'], 'X-TIKA:content_handler': 'ToTextContentHandler', 'dc:creator': 'Jongbae Kim', 'extended-properties:Company': '', 'dcterms:created': '2025-02-16T01:05:00Z', 'meta:line-count': '1', 'dcterms:modified': '2025-02-16T01:10:00Z', 'meta:character-count': '204', 'meta:character-count-with-spaces': '238', 'extended-properties:TotalTime': '5', 'Content-Length': '14789', 'Content-Type': 'application/vnd.openxmlformats-officedocument.wordprocessingml.document', 'extended-properties:Application': 'Microsoft Office Word', 'meta:last-author': 'Jongbae Kim', 'xmpTPg:NPages': '1', 'resourceName': \"b'test_table.docx'\", 'extended-properties:Template': 'Normal', 'X-TIKA:Parsed-By': ['org.apache.tika.parser.DefaultParser', 'org.apache.tika.parser.microsoft.ooxml.OOXMLParser'], 'extended-properties:DocSecurityString': 'None', 'X-TIKA:parse_time_millis': '70', 'X-TIKA:embedded_depth': '0', 'meta:page-count': '1', 'dc:publisher': ''}\n"
     ]
    }
   ],
   "source": [
    "import tika\n",
    "tika.initVM()\n",
    "from tika import parser\n",
    "file_path = \"D:/AA_develop/parse_docling/docs/sub_cat/test_table.docx\"\n",
    "parsed = parser.from_file(file_path)\n",
    "print(parsed[\"metadata\"])"
   ]
  },
  {
   "cell_type": "code",
   "execution_count": 3,
   "metadata": {},
   "outputs": [
    {
     "data": {
      "text/plain": [
       "{'metadata': {'cp:revision': '2',\n",
       "  'extended-properties:AppVersion': '16.0000',\n",
       "  'meta:paragraph-count': '1',\n",
       "  'meta:word-count': '35',\n",
       "  'X-TIKA:Parsed-By-Full-Set': ['org.apache.tika.parser.DefaultParser',\n",
       "   'org.apache.tika.parser.microsoft.ooxml.OOXMLParser'],\n",
       "  'X-TIKA:content_handler': 'ToTextContentHandler',\n",
       "  'dc:creator': 'Jongbae Kim',\n",
       "  'extended-properties:Company': '',\n",
       "  'dcterms:created': '2025-02-16T01:05:00Z',\n",
       "  'meta:line-count': '1',\n",
       "  'dcterms:modified': '2025-02-16T01:10:00Z',\n",
       "  'meta:character-count': '204',\n",
       "  'meta:character-count-with-spaces': '238',\n",
       "  'extended-properties:TotalTime': '5',\n",
       "  'Content-Length': '14789',\n",
       "  'Content-Type': 'application/vnd.openxmlformats-officedocument.wordprocessingml.document',\n",
       "  'extended-properties:Application': 'Microsoft Office Word',\n",
       "  'meta:last-author': 'Jongbae Kim',\n",
       "  'xmpTPg:NPages': '1',\n",
       "  'resourceName': \"b'test_table.docx'\",\n",
       "  'extended-properties:Template': 'Normal',\n",
       "  'X-TIKA:Parsed-By': ['org.apache.tika.parser.DefaultParser',\n",
       "   'org.apache.tika.parser.microsoft.ooxml.OOXMLParser'],\n",
       "  'extended-properties:DocSecurityString': 'None',\n",
       "  'X-TIKA:parse_time_millis': '70',\n",
       "  'X-TIKA:embedded_depth': '0',\n",
       "  'meta:page-count': '1',\n",
       "  'dc:publisher': ''},\n",
       " 'content': '\\n\\n\\n\\n\\n\\n\\n\\n\\n\\n\\n\\n\\n\\n\\n\\n\\n\\n\\n\\n\\n\\n\\n\\n\\n\\n\\n\\nInstalled Equipment비교 샘플\\n\\n\\tNo\\n\\t제목\\n\\t변경 전\\n\\t변경 후\\n\\t비고\\n\\n\\t100\\n\\tCargo compressor\\n\\tMax 100 bar\\n\\tMax 50 bar\\n\\t\\n\\n\\t101\\n\\tGenerator\\n\\t5500 vol\\n\\t4500 vol\\n\\t\\n\\n\\t102\\n\\tPump\\n\\tHorizontal type\\n\\t-\\n\\t\\n\\n\\t103\\n\\tOil gauage\\n\\tLubricate Oil \\n\\tNormal oil\\n\\t\\n\\n\\t104\\n\\tSounder\\n\\t600 bps\\n\\t240 bps + 678 rpm\\n\\t\\n\\n\\n\\n',\n",
       " 'status': 200}"
      ]
     },
     "execution_count": 3,
     "metadata": {},
     "output_type": "execute_result"
    }
   ],
   "source": [
    "parsed"
   ]
  },
  {
   "cell_type": "code",
   "execution_count": 4,
   "metadata": {},
   "outputs": [
    {
     "name": "stdout",
     "output_type": "stream",
     "text": [
      "('\\n'\n",
      " '\\n'\n",
      " '\\n'\n",
      " '\\n'\n",
      " '\\n'\n",
      " '\\n'\n",
      " '\\n'\n",
      " '\\n'\n",
      " '\\n'\n",
      " '\\n'\n",
      " '\\n'\n",
      " '\\n'\n",
      " '\\n'\n",
      " '\\n'\n",
      " '\\n'\n",
      " '\\n'\n",
      " '\\n'\n",
      " '\\n'\n",
      " '\\n'\n",
      " '\\n'\n",
      " '\\n'\n",
      " '\\n'\n",
      " '\\n'\n",
      " '\\n'\n",
      " '\\n'\n",
      " '\\n'\n",
      " '\\n'\n",
      " '\\n'\n",
      " 'Installed Equipment비교 샘플\\n'\n",
      " '\\n'\n",
      " '\\tNo\\n'\n",
      " '\\t제목\\n'\n",
      " '\\t변경 전\\n'\n",
      " '\\t변경 후\\n'\n",
      " '\\t비고\\n'\n",
      " '\\n'\n",
      " '\\t100\\n'\n",
      " '\\tCargo compressor\\n'\n",
      " '\\tMax 100 bar\\n'\n",
      " '\\tMax 50 bar\\n'\n",
      " '\\t\\n'\n",
      " '\\n'\n",
      " '\\t101\\n'\n",
      " '\\tGenerator\\n'\n",
      " '\\t5500 vol\\n'\n",
      " '\\t4500 vol\\n'\n",
      " '\\t\\n'\n",
      " '\\n'\n",
      " '\\t102\\n'\n",
      " '\\tPump\\n'\n",
      " '\\tHorizontal type\\n'\n",
      " '\\t-\\n'\n",
      " '\\t\\n'\n",
      " '\\n'\n",
      " '\\t103\\n'\n",
      " '\\tOil gauage\\n'\n",
      " '\\tLubricate Oil \\n'\n",
      " '\\tNormal oil\\n'\n",
      " '\\t\\n'\n",
      " '\\n'\n",
      " '\\t104\\n'\n",
      " '\\tSounder\\n'\n",
      " '\\t600 bps\\n'\n",
      " '\\t240 bps + 678 rpm\\n'\n",
      " '\\t\\n'\n",
      " '\\n'\n",
      " '\\n'\n",
      " '\\n')\n"
     ]
    }
   ],
   "source": [
    "from pprint import pprint\n",
    "pprint(parsed[\"content\"])"
   ]
  },
  {
   "cell_type": "code",
   "execution_count": 5,
   "metadata": {},
   "outputs": [],
   "source": [
    "import tika\n",
    "from tika import parser\n",
    "parsed = parser.from_file(file_path, xmlContent=True)\n"
   ]
  },
  {
   "cell_type": "code",
   "execution_count": 6,
   "metadata": {},
   "outputs": [
    {
     "data": {
      "text/plain": [
       "{'metadata': {'cp:revision': '2',\n",
       "  'extended-properties:AppVersion': '16.0000',\n",
       "  'meta:paragraph-count': '1',\n",
       "  'meta:word-count': '35',\n",
       "  'X-TIKA:Parsed-By-Full-Set': ['org.apache.tika.parser.DefaultParser',\n",
       "   'org.apache.tika.parser.microsoft.ooxml.OOXMLParser'],\n",
       "  'X-TIKA:content_handler': 'ToXMLContentHandler',\n",
       "  'dc:creator': 'Jongbae Kim',\n",
       "  'extended-properties:Company': '',\n",
       "  'dcterms:created': '2025-02-16T01:05:00Z',\n",
       "  'meta:line-count': '1',\n",
       "  'dcterms:modified': '2025-02-16T01:10:00Z',\n",
       "  'meta:character-count': '204',\n",
       "  'meta:character-count-with-spaces': '238',\n",
       "  'extended-properties:TotalTime': '5',\n",
       "  'Content-Length': '14789',\n",
       "  'Content-Type': 'application/vnd.openxmlformats-officedocument.wordprocessingml.document',\n",
       "  'extended-properties:Application': 'Microsoft Office Word',\n",
       "  'meta:last-author': 'Jongbae Kim',\n",
       "  'xmpTPg:NPages': '1',\n",
       "  'resourceName': \"b'test_table.docx'\",\n",
       "  'extended-properties:Template': 'Normal',\n",
       "  'X-TIKA:Parsed-By': ['org.apache.tika.parser.DefaultParser',\n",
       "   'org.apache.tika.parser.microsoft.ooxml.OOXMLParser'],\n",
       "  'extended-properties:DocSecurityString': 'None',\n",
       "  'X-TIKA:parse_time_millis': '49',\n",
       "  'X-TIKA:embedded_depth': '0',\n",
       "  'meta:page-count': '1',\n",
       "  'dc:publisher': ''},\n",
       " 'content': '<html xmlns=\"http://www.w3.org/1999/xhtml\">\\n<head>\\n<meta name=\"cp:revision\" content=\"2\" />\\n<meta name=\"extended-properties:AppVersion\" content=\"16.0000\" />\\n<meta name=\"meta:paragraph-count\" content=\"1\" />\\n<meta name=\"meta:word-count\" content=\"35\" />\\n<meta name=\"extended-properties:Application\" content=\"Microsoft Office Word\" />\\n<meta name=\"meta:last-author\" content=\"Jongbae Kim\" />\\n<meta name=\"dc:creator\" content=\"Jongbae Kim\" />\\n<meta name=\"extended-properties:Company\" content=\"\" />\\n<meta name=\"xmpTPg:NPages\" content=\"1\" />\\n<meta name=\"resourceName\" content=\"b\\'test_table.docx\\'\" />\\n<meta name=\"dcterms:created\" content=\"2025-02-16T01:05:00Z\" />\\n<meta name=\"meta:line-count\" content=\"1\" />\\n<meta name=\"dcterms:modified\" content=\"2025-02-16T01:10:00Z\" />\\n<meta name=\"meta:character-count\" content=\"204\" />\\n<meta name=\"extended-properties:Template\" content=\"Normal\" />\\n<meta name=\"meta:character-count-with-spaces\" content=\"238\" />\\n<meta name=\"X-TIKA:Parsed-By\" content=\"org.apache.tika.parser.DefaultParser\" />\\n<meta name=\"X-TIKA:Parsed-By\" content=\"org.apache.tika.parser.microsoft.ooxml.OOXMLParser\" />\\n<meta name=\"extended-properties:DocSecurityString\" content=\"None\" />\\n<meta name=\"extended-properties:TotalTime\" content=\"5\" />\\n<meta name=\"Content-Length\" content=\"14789\" />\\n<meta name=\"meta:page-count\" content=\"1\" />\\n<meta name=\"Content-Type\" content=\"application/vnd.openxmlformats-officedocument.wordprocessingml.document\" />\\n<meta name=\"dc:publisher\" content=\"\" />\\n<title></title>\\n</head>\\n<body><p>Installed Equipment비교 샘플</p>\\n<p />\\n<table><tbody><tr>\\t<td><p>No</p>\\n</td>\\t<td><p>제목</p>\\n</td>\\t<td><p>변경 전</p>\\n</td>\\t<td><p>변경 후</p>\\n</td>\\t<td><p>비고</p>\\n</td></tr>\\n<tr>\\t<td><p>100</p>\\n</td>\\t<td><p>Cargo compressor</p>\\n</td>\\t<td><p>Max 100 bar</p>\\n</td>\\t<td><p>Max 50 bar</p>\\n</td>\\t<td><p />\\n</td></tr>\\n<tr>\\t<td><p>101</p>\\n</td>\\t<td><p>Generator</p>\\n</td>\\t<td><p>5500 vol</p>\\n</td>\\t<td><p>4500 vol</p>\\n</td>\\t<td><p />\\n</td></tr>\\n<tr>\\t<td><p>102</p>\\n</td>\\t<td><p>Pump</p>\\n</td>\\t<td><p>Horizontal type</p>\\n</td>\\t<td><p>-</p>\\n</td>\\t<td><p />\\n</td></tr>\\n<tr>\\t<td><p>103</p>\\n</td>\\t<td><p>Oil gauage</p>\\n</td>\\t<td><p>Lubricate Oil </p>\\n</td>\\t<td><p>Normal oil</p>\\n</td>\\t<td><p />\\n</td></tr>\\n<tr>\\t<td><p>104</p>\\n</td>\\t<td><p>Sounder</p>\\n</td>\\t<td><p>600 bps</p>\\n</td>\\t<td><p>240 bps + 678 rpm</p>\\n</td>\\t<td><p />\\n</td></tr>\\n</tbody></table>\\n<p />\\n</body></html>',\n",
       " 'status': 200}"
      ]
     },
     "execution_count": 6,
     "metadata": {},
     "output_type": "execute_result"
    }
   ],
   "source": [
    "parsed"
   ]
  },
  {
   "cell_type": "code",
   "execution_count": 7,
   "metadata": {},
   "outputs": [
    {
     "data": {
      "text/plain": [
       "{'cp:revision': '2',\n",
       " 'extended-properties:AppVersion': '16.0000',\n",
       " 'meta:paragraph-count': '1',\n",
       " 'meta:word-count': '35',\n",
       " 'X-TIKA:Parsed-By-Full-Set': ['org.apache.tika.parser.DefaultParser',\n",
       "  'org.apache.tika.parser.microsoft.ooxml.OOXMLParser'],\n",
       " 'X-TIKA:content_handler': 'ToXMLContentHandler',\n",
       " 'dc:creator': 'Jongbae Kim',\n",
       " 'extended-properties:Company': '',\n",
       " 'dcterms:created': '2025-02-16T01:05:00Z',\n",
       " 'meta:line-count': '1',\n",
       " 'dcterms:modified': '2025-02-16T01:10:00Z',\n",
       " 'meta:character-count': '204',\n",
       " 'meta:character-count-with-spaces': '238',\n",
       " 'extended-properties:TotalTime': '5',\n",
       " 'Content-Length': '14789',\n",
       " 'Content-Type': 'application/vnd.openxmlformats-officedocument.wordprocessingml.document',\n",
       " 'extended-properties:Application': 'Microsoft Office Word',\n",
       " 'meta:last-author': 'Jongbae Kim',\n",
       " 'xmpTPg:NPages': '1',\n",
       " 'resourceName': \"b'test_table.docx'\",\n",
       " 'extended-properties:Template': 'Normal',\n",
       " 'X-TIKA:Parsed-By': ['org.apache.tika.parser.DefaultParser',\n",
       "  'org.apache.tika.parser.microsoft.ooxml.OOXMLParser'],\n",
       " 'extended-properties:DocSecurityString': 'None',\n",
       " 'X-TIKA:parse_time_millis': '49',\n",
       " 'X-TIKA:embedded_depth': '0',\n",
       " 'meta:page-count': '1',\n",
       " 'dc:publisher': ''}"
      ]
     },
     "execution_count": 7,
     "metadata": {},
     "output_type": "execute_result"
    }
   ],
   "source": [
    "parsed[\"metadata\"]"
   ]
  },
  {
   "cell_type": "code",
   "execution_count": 8,
   "metadata": {},
   "outputs": [
    {
     "name": "stdout",
     "output_type": "stream",
     "text": [
      "('<html xmlns=\"http://www.w3.org/1999/xhtml\">\\n'\n",
      " '<head>\\n'\n",
      " '<meta name=\"cp:revision\" content=\"2\" />\\n'\n",
      " '<meta name=\"extended-properties:AppVersion\" content=\"16.0000\" />\\n'\n",
      " '<meta name=\"meta:paragraph-count\" content=\"1\" />\\n'\n",
      " '<meta name=\"meta:word-count\" content=\"35\" />\\n'\n",
      " '<meta name=\"extended-properties:Application\" content=\"Microsoft Office Word\" '\n",
      " '/>\\n'\n",
      " '<meta name=\"meta:last-author\" content=\"Jongbae Kim\" />\\n'\n",
      " '<meta name=\"dc:creator\" content=\"Jongbae Kim\" />\\n'\n",
      " '<meta name=\"extended-properties:Company\" content=\"\" />\\n'\n",
      " '<meta name=\"xmpTPg:NPages\" content=\"1\" />\\n'\n",
      " '<meta name=\"resourceName\" content=\"b\\'test_table.docx\\'\" />\\n'\n",
      " '<meta name=\"dcterms:created\" content=\"2025-02-16T01:05:00Z\" />\\n'\n",
      " '<meta name=\"meta:line-count\" content=\"1\" />\\n'\n",
      " '<meta name=\"dcterms:modified\" content=\"2025-02-16T01:10:00Z\" />\\n'\n",
      " '<meta name=\"meta:character-count\" content=\"204\" />\\n'\n",
      " '<meta name=\"extended-properties:Template\" content=\"Normal\" />\\n'\n",
      " '<meta name=\"meta:character-count-with-spaces\" content=\"238\" />\\n'\n",
      " '<meta name=\"X-TIKA:Parsed-By\" content=\"org.apache.tika.parser.DefaultParser\" '\n",
      " '/>\\n'\n",
      " '<meta name=\"X-TIKA:Parsed-By\" '\n",
      " 'content=\"org.apache.tika.parser.microsoft.ooxml.OOXMLParser\" />\\n'\n",
      " '<meta name=\"extended-properties:DocSecurityString\" content=\"None\" />\\n'\n",
      " '<meta name=\"extended-properties:TotalTime\" content=\"5\" />\\n'\n",
      " '<meta name=\"Content-Length\" content=\"14789\" />\\n'\n",
      " '<meta name=\"meta:page-count\" content=\"1\" />\\n'\n",
      " '<meta name=\"Content-Type\" '\n",
      " 'content=\"application/vnd.openxmlformats-officedocument.wordprocessingml.document\" '\n",
      " '/>\\n'\n",
      " '<meta name=\"dc:publisher\" content=\"\" />\\n'\n",
      " '<title></title>\\n'\n",
      " '</head>\\n'\n",
      " '<body><p>Installed Equipment비교 샘플</p>\\n'\n",
      " '<p />\\n'\n",
      " '<table><tbody><tr>\\t<td><p>No</p>\\n'\n",
      " '</td>\\t<td><p>제목</p>\\n'\n",
      " '</td>\\t<td><p>변경 전</p>\\n'\n",
      " '</td>\\t<td><p>변경 후</p>\\n'\n",
      " '</td>\\t<td><p>비고</p>\\n'\n",
      " '</td></tr>\\n'\n",
      " '<tr>\\t<td><p>100</p>\\n'\n",
      " '</td>\\t<td><p>Cargo compressor</p>\\n'\n",
      " '</td>\\t<td><p>Max 100 bar</p>\\n'\n",
      " '</td>\\t<td><p>Max 50 bar</p>\\n'\n",
      " '</td>\\t<td><p />\\n'\n",
      " '</td></tr>\\n'\n",
      " '<tr>\\t<td><p>101</p>\\n'\n",
      " '</td>\\t<td><p>Generator</p>\\n'\n",
      " '</td>\\t<td><p>5500 vol</p>\\n'\n",
      " '</td>\\t<td><p>4500 vol</p>\\n'\n",
      " '</td>\\t<td><p />\\n'\n",
      " '</td></tr>\\n'\n",
      " '<tr>\\t<td><p>102</p>\\n'\n",
      " '</td>\\t<td><p>Pump</p>\\n'\n",
      " '</td>\\t<td><p>Horizontal type</p>\\n'\n",
      " '</td>\\t<td><p>-</p>\\n'\n",
      " '</td>\\t<td><p />\\n'\n",
      " '</td></tr>\\n'\n",
      " '<tr>\\t<td><p>103</p>\\n'\n",
      " '</td>\\t<td><p>Oil gauage</p>\\n'\n",
      " '</td>\\t<td><p>Lubricate Oil </p>\\n'\n",
      " '</td>\\t<td><p>Normal oil</p>\\n'\n",
      " '</td>\\t<td><p />\\n'\n",
      " '</td></tr>\\n'\n",
      " '<tr>\\t<td><p>104</p>\\n'\n",
      " '</td>\\t<td><p>Sounder</p>\\n'\n",
      " '</td>\\t<td><p>600 bps</p>\\n'\n",
      " '</td>\\t<td><p>240 bps + 678 rpm</p>\\n'\n",
      " '</td>\\t<td><p />\\n'\n",
      " '</td></tr>\\n'\n",
      " '</tbody></table>\\n'\n",
      " '<p />\\n'\n",
      " '</body></html>')\n"
     ]
    }
   ],
   "source": [
    "pprint(parsed[\"content\"])"
   ]
  },
  {
   "cell_type": "code",
   "execution_count": null,
   "metadata": {},
   "outputs": [],
   "source": []
  }
 ],
 "metadata": {
  "kernelspec": {
   "display_name": ".venv",
   "language": "python",
   "name": "python3"
  },
  "language_info": {
   "codemirror_mode": {
    "name": "ipython",
    "version": 3
   },
   "file_extension": ".py",
   "mimetype": "text/x-python",
   "name": "python",
   "nbconvert_exporter": "python",
   "pygments_lexer": "ipython3",
   "version": "3.12.6"
  }
 },
 "nbformat": 4,
 "nbformat_minor": 2
}
