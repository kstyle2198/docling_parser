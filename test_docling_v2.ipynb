{
 "cells": [
  {
   "cell_type": "code",
   "execution_count": 1,
   "metadata": {},
   "outputs": [],
   "source": [
    "import os\n",
    "import pickle\n",
    "import pdfplumber\n",
    "from PyPDF2 import PdfReader\n",
    "from tqdm import tqdm\n",
    "from docling.document_converter import DocumentConverter\n",
    "from langchain_core.documents import Document"
   ]
  },
  {
   "cell_type": "code",
   "execution_count": 2,
   "metadata": {},
   "outputs": [],
   "source": [
    "def extract_level_name(path:str) -> list:  # 폴더 구조(lv1, lv2, lv3를 metadata로 추출하는 함수)\n",
    "    temp = path.split(\"/\") \n",
    "    lv1 = temp[1]\n",
    "    if temp[2]:\n",
    "        if temp[2] != temp[-1]:\n",
    "            lv2 = temp[2]\n",
    "            lv3 = temp[-1].replace(\".pdf\", \"\")\n",
    "        else:\n",
    "            lv2 = None\n",
    "            lv3 = temp[-1].replace(\".pdf\", \"\")\n",
    "    result = [lv1, lv2, lv3]\n",
    "    return result\n",
    "\n",
    "def main_filepath_extractor(path:str, total_results=[]) -> list:   # 폴더 트리를 리커시브하게 읽어서 전체 PDF 파일의 full 경로를 리스트에 수집\n",
    "    all_items = os.listdir(path)\n",
    "    files = [f for f in all_items if os.path.isfile(os.path.join(path, f))]\n",
    "    results = [os.path.join(path, file) for file in files]\n",
    "    results = [result.replace(\"\\\\\", \"/\") for result in results]\n",
    "    total_results.extend(results)\n",
    "    dirs = [f for f in all_items if os.path.isdir(os.path.join(path, f))]\n",
    "    if dirs:\n",
    "        dirs = [path+\"/\" + lv2_dir for lv2_dir in dirs]\n",
    "        for dir in dirs:\n",
    "            main_filepath_extractor(dir)\n",
    "    return total_results\n"
   ]
  },
  {
   "cell_type": "code",
   "execution_count": 3,
   "metadata": {},
   "outputs": [
    {
     "name": "stdout",
     "output_type": "stream",
     "text": [
      "['./docs/sub_cat/DNV Rules for Classification of Ships _2016_39_Fishing vessels.pdf', './docs/sub_cat/FWG.pdf', './docs/sub_cat/Guidance for Approval of Risk-based Ship Design_2015.pdf', './docs/sub_cat/Meta Llama Responsible Use Guide.pdf', './docs/sub_cat/PART 11_2014_Common Structural Rules for Bulk Carriers.pdf', './docs/sub_cat/Unit_Cooler.pdf', './docs/sub_cat/WinGD-Portfolio-Engines_2024_Digital.pdf']\n"
     ]
    },
    {
     "name": "stderr",
     "output_type": "stream",
     "text": [
      "  0%|          | 0/7 [00:00<?, ?it/s]"
     ]
    },
    {
     "name": "stdout",
     "output_type": "stream",
     "text": [
      ">>>>> Already parsed : DNV Rules for Classification of Ships _2016_39_Fishing vessels\n",
      ">>>>> Do Parsing :  FWG\n",
      ">>> Parsing Start: ./docs/sub_cat/FWG.pdf\n"
     ]
    },
    {
     "name": "stderr",
     "output_type": "stream",
     "text": [
      "d:\\AA_develop\\parse_docling\\.venv\\Lib\\site-packages\\tqdm\\auto.py:21: TqdmWarning: IProgress not found. Please update jupyter and ipywidgets. See https://ipywidgets.readthedocs.io/en/stable/user_install.html\n",
      "  from .autonotebook import tqdm as notebook_tqdm\n",
      "Fetching 9 files: 100%|██████████| 9/9 [00:00<?, ?it/s]\n",
      "Neither CUDA nor MPS are available - defaulting to CPU. Note: This module is much faster with a GPU.\n",
      "100%|██████████| 7/7 [00:00<00:00, 281.60it/s]\n",
      "100%|██████████| 7/7 [01:07<00:00,  9.64s/it]"
     ]
    },
    {
     "name": "stdout",
     "output_type": "stream",
     "text": [
      "------- Done (length of results: 7------------\n",
      ">>>>> Already parsed : Guidance for Approval of Risk-based Ship Design_2015\n",
      ">>>>> Already parsed : Meta Llama Responsible Use Guide\n",
      ">>>>> Already parsed : PART 11_2014_Common Structural Rules for Bulk Carriers\n",
      ">>>>> Already parsed : Unit_Cooler\n",
      ">>>>> Already parsed : WinGD-Portfolio-Engines_2024_Digital\n",
      ">>>>> All Parsings are Completed\n"
     ]
    },
    {
     "name": "stderr",
     "output_type": "stream",
     "text": [
      "\n"
     ]
    }
   ],
   "source": [
    "\n",
    "def docling_parser(path:str):\n",
    "    try:\n",
    "        print(f\">>> Parsing Start: {path}\")\n",
    "        \n",
    "        converter = DocumentConverter()\n",
    "        loaded_docs = converter.convert(path)\n",
    "        lv1, lv2, filename = extract_level_name(path)\n",
    "\n",
    "        with pdfplumber.open(path) as pdf:\n",
    "            page_number = 0  # for metadata\n",
    "            results = []\n",
    "            for _ in tqdm(pdf.pages):\n",
    "                docling_text = loaded_docs.document.export_to_markdown(page_no=int(page_number)+1)\n",
    "                lang_doc = Document(page_content=docling_text, metadata={\"Page\": str(page_number), \"First Division\": str(lv1), \"Second Division\": str(lv2), \"File Name\": str(filename), \"File Path\": str(path)})   \n",
    "                results.append(lang_doc)\n",
    "                with open(f'./parsed_docs/parsed_{filename}.pkl', 'ab') as file:\n",
    "                    pickle.dump(results, file)\n",
    "                \n",
    "                page_number += 1\n",
    "            \n",
    "        print(f\"------- Done (length of results: {len(results)}------------\")\n",
    "\n",
    "        with open(f'./parsed_docs/parsed_{filename}.pkl', 'wb') as file:\n",
    "            pickle.dump(results, file)\n",
    "        return results\n",
    "    \n",
    "    except Exception as e:\n",
    "        print(f\"Error - {e}\")\n",
    "        with open(f'./parsed_docs/error_{filename}.pkl', 'wb') as file:\n",
    "            pickle.dump(results, file)\n",
    "\n",
    "def main(lv1_path:str):\n",
    "    total_files = main_filepath_extractor(lv1_path)\n",
    "    print(total_files)\n",
    "\n",
    "    picklefiles = os.listdir('./parsed_docs')\n",
    "    picklefiles = [i.replace(\".pkl\", \"\") for i in picklefiles]\n",
    "    picklefiles = [i.replace(\"parsed_\", \"\") for i in picklefiles]\n",
    "\n",
    "    for file_path in tqdm(total_files):\n",
    "        filename = file_path.split(\"/\")[-1]\n",
    "        filename = filename.replace(\".pdf\", \"\")\n",
    "\n",
    "        if filename not in picklefiles:   # 기완료 중복 체크\n",
    "            print(f\">>>>> Do Parsing :  {filename}\")\n",
    "            docling_parser(path=file_path)\n",
    "        else: print(f\">>>>> Already parsed : {filename}\")\n",
    "    \n",
    "    print(\">>>>> All Parsings are Completed\")\n",
    "\n",
    "lv1_path = \"./docs\"\n",
    "main(lv1_path=lv1_path)"
   ]
  },
  {
   "cell_type": "code",
   "execution_count": 44,
   "metadata": {},
   "outputs": [
    {
     "data": {
      "text/plain": [
       "524"
      ]
     },
     "execution_count": 44,
     "metadata": {},
     "output_type": "execute_result"
    }
   ],
   "source": [
    "filename = \"PART 11_2014_Common Structural Rules for Bulk Carriers\"\n",
    "# filename = \"Unit_Cooler\"\n",
    "with open(f'./parsed_docs/parsed_{filename}.pkl', 'rb') as file:\n",
    "    parsed_text = pickle.load(file)\n",
    "\n",
    "len(parsed_text)"
   ]
  },
  {
   "cell_type": "code",
   "execution_count": 45,
   "metadata": {},
   "outputs": [
    {
     "name": "stdout",
     "output_type": "stream",
     "text": [
      "{'Page': '13', 'First Division': 'docs', 'Second Division': 'sub_cat', 'File Name': 'PART 11_2014_Common Structural Rules for Bulk Carriers', 'File Path': './docs/sub_cat/PART 11_2014_Common Structural Rules for Bulk Carriers.pdf'}\n",
      "| Plan or document                                                         | Containing also in formation on                                                                         |\n",
      "|--------------------------------------------------------------------------|---------------------------------------------------------------------------------------------------------|\n",
      "| Bulwarks and freeing ports                                               | Arrangement and dimensions of bulwarks and freeing ports on  the freeboard deck and superstructure deck |\n",
      "| Windows and side scuttles, arrangements and de- tails                    |                                                                                                         |\n",
      "| Scuppers and sanitary discharges                                         |                                                                                                         |\n",
      "| Rudder and rudder horn (1)                                               | Maximum ahead service speed                                                                             |\n",
      "| Sternframe or sternpost, sterntube Propeller shaft boss and brackets (1) |                                                                                                         |\n",
      "| Plan of watertight doors and scheme of relevant  manoeuvring devices     | Manoeuvring devices Electrical diagrams of power control and position indication cir- cuits             |\n",
      "| Plan of outer doors and hatchways                                        |                                                                                                         |\n",
      "| Derricks and cargo gear Cargo lift structures                            | Design loads (forces and moments) Connections to the hull structures                                    |\n",
      "| Sea chests, stabiliser recesses, etc.                                    |                                                                                                         |\n",
      "| Hawse pipes                                                              |                                                                                                         |\n",
      "| Plan of manholes                                                         |                                                                                                         |\n",
      "| Plan of access to and escape from spaces                                 |                                                                                                         |\n",
      "| Plan of ventilation                                                      | Use of spaces and location and height of air vent outlets of var- ious compartments                     |\n",
      "| Plan of tank testing                                                     | Testing procedures for the various compartments Height of pipes for testing                             |\n",
      "| Loading manual and loading instruments                                   | Loading conditions as defined in $\\_{Ch}$ 4, Sec $\\_{7}$ (see also $\\_{Ch}$ 4,  Sec $\\_{8}$)                |\n",
      "| Equipment number calculation                                             | Geometrical elements for calculation List of equipment Construction and breaking load of steel wires    |\n",
      "|                                                                          | Material, construction, breaking load and relevant elongation of  synthetic ropes                       |\n",
      "\n",
      "                                            - (1) Where other steering or propulsion systems are adopted (e.g. steering nozzles or azimuth propulsion systems), the plans showing the relevant arrangement and structural scantlings are to be submitted. For azimuth propulsion systems, see $\\_{Ch 10,}$ Sec 1, $\\_{[11]}$.\n",
      "\n",
      "## 3. Computer programs\n",
      "\n",
      "## 3.1 General\n",
      "\n",
      "## 3.1.1\n",
      "\n",
      "In order to increase the flexibility in the structural design direct calculations with computer programs are acceptable (see $\\_{Ch}$ $\\_{7}$). The aim of such analyses is to assess the structure compliance with the rule requirements.\n",
      "\n",
      "## 3.2 General programs\n",
      "\n",
      "## 3.2.1\n",
      "\n",
      "The choice of computer programs according to currently available technology is free. The programs are\n"
     ]
    }
   ],
   "source": [
    "page_num = 13\n",
    "print(parsed_text[page_num].metadata)\n",
    "print(parsed_text[page_num].page_content)"
   ]
  },
  {
   "cell_type": "code",
   "execution_count": null,
   "metadata": {},
   "outputs": [],
   "source": []
  },
  {
   "cell_type": "code",
   "execution_count": null,
   "metadata": {},
   "outputs": [],
   "source": []
  }
 ],
 "metadata": {
  "kernelspec": {
   "display_name": ".venv",
   "language": "python",
   "name": "python3"
  },
  "language_info": {
   "codemirror_mode": {
    "name": "ipython",
    "version": 3
   },
   "file_extension": ".py",
   "mimetype": "text/x-python",
   "name": "python",
   "nbconvert_exporter": "python",
   "pygments_lexer": "ipython3",
   "version": "3.12.6"
  }
 },
 "nbformat": 4,
 "nbformat_minor": 2
}
