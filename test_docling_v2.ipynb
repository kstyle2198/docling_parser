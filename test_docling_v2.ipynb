{
 "cells": [
  {
   "cell_type": "code",
   "execution_count": 32,
   "metadata": {},
   "outputs": [],
   "source": [
    "import os\n",
    "import pickle\n",
    "import pdfplumber\n",
    "from PyPDF2 import PdfReader\n",
    "from tqdm import tqdm\n",
    "# from docling_parse.docling_parse import pdf_parser_v2\n",
    "from docling.document_converter import DocumentConverter\n",
    "from langchain_core.documents import Document"
   ]
  },
  {
   "cell_type": "code",
   "execution_count": 33,
   "metadata": {},
   "outputs": [],
   "source": [
    "def extract_level_name(path:str) -> list:  # 폴더 구조(lv1, lv2, lv3를 metadata로 추출하는 함수)\n",
    "    temp = path.split(\"/\") \n",
    "    lv1 = temp[1]\n",
    "    if temp[2]:\n",
    "        if temp[2] != temp[-1]:\n",
    "            lv2 = temp[2]\n",
    "            lv3 = temp[-1].replace(\".pdf\", \"\")\n",
    "        else:\n",
    "            lv2 = None\n",
    "            lv3 = temp[-1].replace(\".pdf\", \"\")\n",
    "    result = [lv1, lv2, lv3]\n",
    "    return result\n",
    "\n",
    "def main_filepath_extractor(path:str, total_results=[]) -> list:   # 폴더 트리를 리커시브하게 읽어서 전체 PDF 파일의 full 경로를 리스트에 수집\n",
    "    all_items = os.listdir(path)\n",
    "    files = [f for f in all_items if os.path.isfile(os.path.join(path, f))]\n",
    "    results = [os.path.join(path, file) for file in files]\n",
    "    results = [result.replace(\"\\\\\", \"/\") for result in results]\n",
    "    total_results.extend(results)\n",
    "    dirs = [f for f in all_items if os.path.isdir(os.path.join(path, f))]\n",
    "    if dirs:\n",
    "        dirs = [path+\"/\" + lv2_dir for lv2_dir in dirs]\n",
    "        for dir in dirs:\n",
    "            main_filepath_extractor(dir)\n",
    "    return total_results\n"
   ]
  },
  {
   "cell_type": "code",
   "execution_count": null,
   "metadata": {},
   "outputs": [
    {
     "name": "stdout",
     "output_type": "stream",
     "text": [
      "['./docs/sub_cat/DNV Rules for Classification of Ships _2016_39_Fishing vessels.pdf', './docs/sub_cat/Guidance for Approval of Risk-based Ship Design_2015.pdf', './docs/sub_cat/Meta Llama Responsible Use Guide.pdf', './docs/sub_cat/Unit_Cooler.pdf', './docs/sub_cat/WinGD-Portfolio-Engines_2024_Digital.pdf', './docs/sub_cat/DNV Rules for Classification of Ships _2016_39_Fishing vessels.pdf', './docs/sub_cat/Guidance for Approval of Risk-based Ship Design_2015.pdf', './docs/sub_cat/Meta Llama Responsible Use Guide.pdf', './docs/sub_cat/Unit_Cooler.pdf', './docs/sub_cat/WinGD-Portfolio-Engines_2024_Digital.pdf', './docs/sub_cat/DNV Rules for Classification of Ships _2016_39_Fishing vessels.pdf', './docs/sub_cat/Guidance for Approval of Risk-based Ship Design_2015.pdf', './docs/sub_cat/Meta Llama Responsible Use Guide.pdf', './docs/sub_cat/Unit_Cooler.pdf', './docs/sub_cat/WinGD-Portfolio-Engines_2024_Digital.pdf']\n"
     ]
    },
    {
     "name": "stderr",
     "output_type": "stream",
     "text": [
      "  0%|          | 0/15 [00:00<?, ?it/s]"
     ]
    },
    {
     "name": "stdout",
     "output_type": "stream",
     "text": [
      ">>>>> Already parsed : DNV Rules for Classification of Ships _2016_39_Fishing vessels\n",
      ">>>>> Do Parsing :  Guidance for Approval of Risk-based Ship Design_2015\n",
      ">>> Parsing Start: ./docs/sub_cat/Guidance for Approval of Risk-based Ship Design_2015.pdf\n"
     ]
    },
    {
     "name": "stderr",
     "output_type": "stream",
     "text": [
      "Fetching 9 files: 100%|██████████| 9/9 [00:00<?, ?it/s]\n",
      "Neither CUDA nor MPS are available - defaulting to CPU. Note: This module is much faster with a GPU.\n",
      "100%|██████████| 30/30 [00:00<00:00, 174.37it/s]\n",
      " 13%|█▎        | 2/15 [02:24<15:41, 72.39s/it]"
     ]
    },
    {
     "name": "stdout",
     "output_type": "stream",
     "text": [
      "------- Done (length of results: 30------------\n",
      ">>>>> Already parsed : Meta Llama Responsible Use Guide\n",
      ">>>>> Already parsed : Unit_Cooler\n",
      ">>>>> Already parsed : WinGD-Portfolio-Engines_2024_Digital\n",
      ">>>>> Already parsed : DNV Rules for Classification of Ships _2016_39_Fishing vessels\n",
      ">>>>> Do Parsing :  Guidance for Approval of Risk-based Ship Design_2015\n",
      ">>> Parsing Start: ./docs/sub_cat/Guidance for Approval of Risk-based Ship Design_2015.pdf\n"
     ]
    },
    {
     "name": "stderr",
     "output_type": "stream",
     "text": [
      "Fetching 9 files: 100%|██████████| 9/9 [00:00<?, ?it/s]\n",
      "Neither CUDA nor MPS are available - defaulting to CPU. Note: This module is much faster with a GPU.\n",
      "100%|██████████| 30/30 [00:00<00:00, 185.12it/s]\n",
      " 47%|████▋     | 7/15 [04:49<05:08, 38.51s/it]"
     ]
    },
    {
     "name": "stdout",
     "output_type": "stream",
     "text": [
      "------- Done (length of results: 30------------\n",
      ">>>>> Already parsed : Meta Llama Responsible Use Guide\n",
      ">>>>> Already parsed : Unit_Cooler\n",
      ">>>>> Already parsed : WinGD-Portfolio-Engines_2024_Digital\n",
      ">>>>> Already parsed : DNV Rules for Classification of Ships _2016_39_Fishing vessels\n",
      ">>>>> Do Parsing :  Guidance for Approval of Risk-based Ship Design_2015\n",
      ">>> Parsing Start: ./docs/sub_cat/Guidance for Approval of Risk-based Ship Design_2015.pdf\n"
     ]
    },
    {
     "name": "stderr",
     "output_type": "stream",
     "text": [
      "Fetching 9 files: 100%|██████████| 9/9 [00:00<?, ?it/s]\n",
      "Neither CUDA nor MPS are available - defaulting to CPU. Note: This module is much faster with a GPU.\n",
      "100%|██████████| 30/30 [00:00<00:00, 179.34it/s]\n",
      "100%|██████████| 15/15 [07:18<00:00, 29.24s/it]"
     ]
    },
    {
     "name": "stdout",
     "output_type": "stream",
     "text": [
      "------- Done (length of results: 30------------\n",
      ">>>>> Already parsed : Meta Llama Responsible Use Guide\n",
      ">>>>> Already parsed : Unit_Cooler\n",
      ">>>>> Already parsed : WinGD-Portfolio-Engines_2024_Digital\n",
      ">>>>> All Parsings are Completed\n"
     ]
    },
    {
     "name": "stderr",
     "output_type": "stream",
     "text": [
      "\n"
     ]
    }
   ],
   "source": [
    "\n",
    "def docling_parser(path:str):\n",
    "    try:\n",
    "        print(f\">>> Parsing Start: {path}\")\n",
    "        \n",
    "        converter = DocumentConverter()\n",
    "        loaded_docs = converter.convert(path)\n",
    "        lv1, lv2, filename = extract_level_name(path)\n",
    "\n",
    "        with pdfplumber.open(path) as pdf:\n",
    "            page_number = 0  # for metadata\n",
    "            results = []\n",
    "            for _ in tqdm(pdf.pages):\n",
    "                docling_text = loaded_docs.document.export_to_markdown(page_no=int(page_number)+1)\n",
    "                lang_doc = Document(page_content=docling_text, metadata={\"Page\": str(page_number), \"First Division\": str(lv1), \"Second Division\": str(lv2), \"File Name\": str(filename), \"File Path\": str(path)})   \n",
    "                results.append(lang_doc)\n",
    "                with open(f'./parsed_docs/parsed_{filename}.pkl', 'ab') as file:\n",
    "                    pickle.dump(results, file)\n",
    "                \n",
    "                page_number += 1\n",
    "            \n",
    "        print(f\"------- Done (length of results: {len(results)}------------\")\n",
    "\n",
    "        with open(f'./parsed_docs/parsed_{filename}.pkl', 'wb') as file:\n",
    "            pickle.dump(results, file)\n",
    "        return results\n",
    "    \n",
    "    except Exception as e:\n",
    "        print(f\"Error - {e}\")\n",
    "        with open(f'./parsed_docs/error_{filename}.pkl', 'wb') as file:\n",
    "            pickle.dump(results, file)\n",
    "\n",
    "def main(lv1_path:str):\n",
    "    total_files = main_filepath_extractor(lv1_path)\n",
    "    print(total_files)\n",
    "\n",
    "    picklefiles = os.listdir('./parsed_docs')\n",
    "    picklefiles = [i.replace(\".pkl\", \"\") for i in picklefiles]\n",
    "    picklefiles = [i.replace(\"parsed_\", \"\") for i in picklefiles]\n",
    "\n",
    "    for file_path in tqdm(total_files):\n",
    "        filename = file_path.split(\"/\")[-1]\n",
    "        filename = filename.replace(\".pdf\", \"\")\n",
    "\n",
    "        if filename not in picklefiles:   # 기완료 중복 체크\n",
    "            print(f\">>>>> Do Parsing :  {filename}\")\n",
    "            docling_parser(path=file_path)\n",
    "        else: print(f\">>>>> Already parsed : {filename}\")\n",
    "    \n",
    "    print(\">>>>> All Parsings are Completed\")\n",
    "\n",
    "lv1_path = \"./docs\"\n",
    "main(lv1_path=lv1_path)"
   ]
  },
  {
   "cell_type": "code",
   "execution_count": 38,
   "metadata": {},
   "outputs": [
    {
     "data": {
      "text/plain": [
       "30"
      ]
     },
     "execution_count": 38,
     "metadata": {},
     "output_type": "execute_result"
    }
   ],
   "source": [
    "filename = \"Guidance for Approval of Risk-based Ship Design_2015\"\n",
    "# filename = \"Unit_Cooler\"\n",
    "with open(f'./parsed_docs/parsed_{filename}.pkl', 'rb') as file:\n",
    "    parsed_text = pickle.load(file)\n",
    "\n",
    "len(parsed_text)"
   ]
  },
  {
   "cell_type": "code",
   "execution_count": 39,
   "metadata": {},
   "outputs": [
    {
     "name": "stdout",
     "output_type": "stream",
     "text": [
      "{'Page': '13', 'First Division': 'docs', 'Second Division': 'sub_cat', 'File Name': 'Guidance for Approval of Risk-based Ship Design_2015', 'File Path': './docs/sub_cat/Guidance for Approval of Risk-based Ship Design_2015.pdf'}\n",
      "- Rule-Making Process(MSC-MEPC.2/Circ.12) 」 ) for hazards identification works were followed. (3) the rank of identified hazards is considered properly.\n",
      "                                                                                                            - (4) the identified safety systems are reflected to the design properly.\n",
      "                                                                                                            - (5) features of novel design or risk-based design are reflect to identified hazards and safety systems properly.\n",
      "                                                                                                            - (6) if necessary, preliminary approval criteria are revised according to identified design requirements.\n",
      "                                                                                                            - 2. The approval team is to review rationality and adequacy of risk model\n",
      "                                                                                                            - 3. The approval team is to review rationality and adequacy of risk assessment results.\n",
      "                                                                                                            - 4. The approval team is to review rationality and adequacy of risk reduction level where risk control measures are applied by the design team.\n",
      "                                                                                                            - 5. The approval team is to review that experiments, calculations, analysis, simulation tests etc related to the generic design have been carried out appropriately and transparently, and their results are reasonable.\n",
      "\n",
      "## 207. Issuance of preliminary approval certification\n",
      "\n",
      "                                                                                                            - 1. The approval team is to review the analysis results for generic design in accordance with preliminary approval criteria and decide issuance of preliminary approval certification after judging realization possibility and safety level of generic design. The certification is not to be issued until all hazards, faults related to generic design are identified and their control is demonstrated.\n",
      "                                                                                                            - 2. The approval team is to consider the following specifications to issue preliminary approval certification.\n",
      "                                                                                                            - (1) Possible to realize generic design\n",
      "                                                                                                            - (2) May all identified and calculated risk levels be acceptable\n",
      "                                                                                                            - (3) Are there omitted or ignored risks\n",
      "                                                                                                            - (4) Comply with design requirements\n",
      "                                                                                                            - (5) Is risk reduction level by risk control measures reasonable\n",
      "                                                                                                            - 3. It is noted that preliminary approval certification is not guaranteed for final approval. It is only possible through the final approval.\n",
      "                                                                                                            - 4. The form of preliminary approval certificate is to be in accordance with the form defined in $\\_{Annex 2}$.\n",
      "\n",
      "## Section 3 Final Approval\n",
      "\n",
      "## 301. General\n",
      "\n",
      "                                                                                                            - 1. Final approval is a procedure of detailed design preparation and analysis. The procedure step is specified as in $\\_{Fig}$ $\\_{3.5}$.\n",
      "\n",
      "Fig 3.5 Final approval procedure flow\n",
      "\n",
      "<!-- image -->\n"
     ]
    }
   ],
   "source": [
    "page_num = 13\n",
    "print(parsed_text[page_num].metadata)\n",
    "print(parsed_text[page_num].page_content)"
   ]
  },
  {
   "cell_type": "code",
   "execution_count": null,
   "metadata": {},
   "outputs": [],
   "source": []
  },
  {
   "cell_type": "code",
   "execution_count": null,
   "metadata": {},
   "outputs": [],
   "source": []
  }
 ],
 "metadata": {
  "kernelspec": {
   "display_name": ".venv",
   "language": "python",
   "name": "python3"
  },
  "language_info": {
   "codemirror_mode": {
    "name": "ipython",
    "version": 3
   },
   "file_extension": ".py",
   "mimetype": "text/x-python",
   "name": "python",
   "nbconvert_exporter": "python",
   "pygments_lexer": "ipython3",
   "version": "3.12.6"
  }
 },
 "nbformat": 4,
 "nbformat_minor": 2
}
